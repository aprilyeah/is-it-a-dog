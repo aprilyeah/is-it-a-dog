{
 "cells": [
  {
   "cell_type": "markdown",
   "metadata": {},
   "source": [
    "# Phase 3 Data Science Report"
   ]
  },
  {
   "cell_type": "markdown",
   "metadata": {},
   "source": [
    "# Introduction"
   ]
  },
  {
   "cell_type": "markdown",
   "metadata": {},
   "source": [
    "I have picked the animal `dog` to detect. This has a label of `5`. \n",
    "I have decided to compare `dog` with `cat` because both are animals and can look similar to each other. It would be interesting to experiment if the model can detect whether or not a dog is in the image accurately. "
   ]
  },
  {
   "cell_type": "markdown",
   "metadata": {},
   "source": [
    "# Model Process"
   ]
  },
  {
   "cell_type": "markdown",
   "metadata": {},
   "source": [
    "The shape of the training image dataset of cats and dogs is (10000, 32, 32, 3) and the training label dataset is (10000,). There are 5000 cat images and 5000 dog images. \n",
    "\n",
    "The shape of the testing image dataset of cats and dogs is (2000, 32, 32, 3) and the testing label dataset is (2000,). There are 1000 cat images and 1000 dog images.  \n",
    "\n",
    "The shape of the model I have used is reLU. The input layer has a shape of (32,32,3). I then preprocess by normalising the data. The next layer is a hidden dense layer of 32 nodes using an activation of reLU. After that is a MaxPooling2D layer, followed by another reLU activation layer with 64 nodes (these two layers are repeated again). Then there is a flatten layer, another reLU layer with 64 nodes, and finally a dense layer with 1 node. \n",
    "\n",
    "I picked the Binary Cross-entropy loss because we are dealing with two labels: dog or not dog, which I converted to 1 and 0 respectively. \n",
    "\n",
    "For the optimiser, I picked Adam with a learning rate of 0.00003. This is because Adam is a stochastic gradient descent method that is based on adaptive estimation of first-order and second-order moments. I initially started with a learning rate of 0.1 but realised this was too large and did not produce accurate results, so I ended up adjusting to a much smaller learning rate."
   ]
  },
  {
   "cell_type": "markdown",
   "metadata": {},
   "source": [
    "# Model Performance"
   ]
  },
  {
   "cell_type": "markdown",
   "metadata": {},
   "source": [
    "![model accuracy graph](./model_accuracy.PNG)"
   ]
  },
  {
   "cell_type": "markdown",
   "metadata": {},
   "source": [
    "![model loss graph](./model_loss.PNG)"
   ]
  },
  {
   "cell_type": "markdown",
   "metadata": {},
   "source": [
    "Here are some example model accuracy and model loss graphs from a previous fitting of the model. \n",
    "\n",
    "In the model accuracy graph, both the training accuracy and validation accuracy start at around 0.5. The accuracy has a positive relationship: as the number of epochs increases, the accuracy also increases. What's interesting to note is that the accuracy decreases in the beginning before improving. \n",
    "\n",
    "In the model loss graph, both the training loss and validation loss start at around 0.7 and has a decreasing trend. As we run more epochs, the loss decreases. The validation loss is slightly higher than the training loss."
   ]
  },
  {
   "cell_type": "markdown",
   "metadata": {},
   "source": [
    "# Conclusion"
   ]
  },
  {
   "cell_type": "markdown",
   "metadata": {},
   "source": [
    "In conclusion, the model has a loss of around 0.36 and an accuracy of around 0.84. \n",
    "\n",
    "The model has run much better than I expected and can be used to predict whether an image is a dog or not. It is not accurate 100% of the time, so there can definitely be more shaping and tuning of the model. The model could also be run with more epochs, so we can get a more accurate model. "
   ]
  },
  {
   "cell_type": "markdown",
   "metadata": {},
   "source": [
    "# Advanced Features"
   ]
  },
  {
   "cell_type": "markdown",
   "metadata": {},
   "source": [
    "## Hyperparameter Tuning"
   ]
  },
  {
   "cell_type": "markdown",
   "metadata": {},
   "source": [
    "![hyperparameter results](hyperparameter_results.png)"
   ]
  },
  {
   "cell_type": "markdown",
   "metadata": {},
   "source": [
    "From my hyperparameter tuning of the variables:\n",
    "* Num Units\n",
    "    * 32 or 64\n",
    "* Dropout\n",
    "    * 0.1 or 0.2\n",
    "* Learning rate\n",
    "    * 0.00003 or 0.00004\n",
    "\n",
    "Running for 10 epochs each with a batch size of 1000.\n",
    "\n",
    "Out of these hyperparameters, the most optimal is a num unit of 64, dropout of 0.1 and learning rate of 0.00004, giving an accuracy of 0.68900. We can achieve a more accurate result by tuning the hyperparameter more and running for more epochs. "
   ]
  },
  {
   "cell_type": "markdown",
   "metadata": {},
   "source": [
    "## Python function that evaluates the model for a given image"
   ]
  },
  {
   "cell_type": "markdown",
   "metadata": {},
   "source": [
    "![it's a dog](its_a_dog.png)"
   ]
  },
  {
   "cell_type": "markdown",
   "metadata": {},
   "source": [
    "This function in the make-model.ipynb evaluates the model when you give it any PNG and/or JPEG image. This function resizes the image to be 32z32 and evaluates the image, returning the probability of how likely the image contains a dog. In the image above, the model has predicted 0.9853211 that there is a dog in the image, which is correct. "
   ]
  },
  {
   "cell_type": "markdown",
   "metadata": {},
   "source": [
    "# References\n",
    "\n",
    "1. [Learning Multiple Layers of Features from Tiny Images](http://www.cs.toronto.edu/~kriz/learning-features-2009-TR.pdf), Alex Krizhevsky, 2009.\n",
    "2. [Convolutional Neural Network (CNN)](https://www.tensorflow.org/tutorials/images/cnn), Tensorflow.\n",
    "3. [Tensorflow Example](https://github.com/rantonkoga/tensorflow-example-2022), rantonkoga, 2022.\n",
    "4. [Hyperparameter Tuning with the HParams Dashboard](https://www.tensorflow.org/tensorboard/hyperparameter_tuning_with_hparams), Tensorflow. "
   ]
  }
 ],
 "metadata": {
  "kernelspec": {
   "display_name": "Python 3",
   "language": "python",
   "name": "python3"
  },
  "language_info": {
   "codemirror_mode": {
    "name": "ipython",
    "version": 3
   },
   "file_extension": ".py",
   "mimetype": "text/x-python",
   "name": "python",
   "nbconvert_exporter": "python",
   "pygments_lexer": "ipython3",
   "version": "3.10.5"
  },
  "vscode": {
   "interpreter": {
    "hash": "aee8b7b246df8f9039afb4144a1f6fd8d2ca17a180786b69acc140d282b71a49"
   }
  }
 },
 "nbformat": 4,
 "nbformat_minor": 2
}
